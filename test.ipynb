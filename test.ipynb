{
 "cells": [
  {
   "cell_type": "code",
   "execution_count": 23,
   "metadata": {},
   "outputs": [
    {
     "name": "stdout",
     "output_type": "stream",
     "text": [
      "        nom_poisson      rarete  \\\n",
      "0          Arapaïma   Très rare   \n",
      "1           Arowana   Très rare   \n",
      "2               Ayu      Commun   \n",
      "3               Bar      Commun   \n",
      "4            Bichir        Rare   \n",
      "..              ...         ...   \n",
      "155     Requin scie   Très rare   \n",
      "156  Requin baleine   Très rare   \n",
      "157          Scarus        Rare   \n",
      "158            Thon   Très rare   \n",
      "159        Vivaneau        Rare   \n",
      "\n",
      "                                              link_img  \n",
      "0    https://static1.millenium.org/articles/9/36/15...  \n",
      "1    https://static1.millenium.org/articles/9/36/15...  \n",
      "2    https://static1.millenium.org/articles/9/36/15...  \n",
      "3    https://static1.millenium.org/articles/9/36/15...  \n",
      "4    https://static1.millenium.org/articles/9/36/15...  \n",
      "..                                                 ...  \n",
      "155  https://static1.millenium.org/articles/9/36/15...  \n",
      "156  https://static1.millenium.org/articles/9/36/15...  \n",
      "157  https://static1.millenium.org/articles/9/36/15...  \n",
      "158  https://static1.millenium.org/articles/9/36/15...  \n",
      "159  https://static1.millenium.org/articles/9/36/15...  \n",
      "\n",
      "[160 rows x 3 columns]\n"
     ]
    }
   ],
   "source": [
    "import pandas as pd\n",
    "\n",
    "\n",
    "\n",
    "with open(\"assets\\poissons.csv\",\"r\") as f:\n",
    "    poissons = pd.read_csv(f,sep=\";\",encoding=\"utf-8\",header=0)\n",
    "print(poissons)"
   ]
  },
  {
   "cell_type": "code",
   "execution_count": 9,
   "metadata": {},
   "outputs": [
    {
     "data": {
      "text/plain": [
       "Index(['nom_poisson', 'rarete', 'link_img'], dtype='object')"
      ]
     },
     "execution_count": 9,
     "metadata": {},
     "output_type": "execute_result"
    }
   ],
   "source": [
    "poissons.columns"
   ]
  },
  {
   "cell_type": "code",
   "execution_count": 21,
   "metadata": {},
   "outputs": [
    {
     "name": "stdout",
     "output_type": "stream",
     "text": [
      "['ArapaÃ¯ma', 'Arowana', 'Dai yu', 'Dorade', 'Esturgeon', 'Truite dorÃ©e', 'Cyprin dorÃ©', 'Gar', 'Poisson rouge', 'Ranchu', 'Coelacanthe', 'Gard requin blanc', 'Macropinna', 'Marlin bleu', 'NapolÃ©on', 'Poisson-ruban', 'Requin marteau', 'Requin scie', 'Requin baleine', 'Thon', 'ArapaÃ¯ma', 'Arowana', 'Dai yu', 'Dorade', 'Esturgeon', 'Truite dorÃ©e', 'Cyprin dorÃ©', 'Gar', 'Poisson rouge', 'Ranchu', 'Coelacanthe', 'Gard requin blanc', 'Macropinna', 'Marlin bleu', 'NapolÃ©on', 'Poisson-ruban', 'Requin marteau', 'Requin scie', 'Requin baleine', 'Thon'] 40\n"
     ]
    }
   ],
   "source": [
    "commun_poissons = poissons[poissons['rarete'].str.strip() == 'Très rare']['nom_poisson'].tolist()\n",
    "\n",
    "print(commun_poissons,len(commun_poissons))\n",
    "\n",
    "\n"
   ]
  },
  {
   "cell_type": "code",
   "execution_count": 27,
   "metadata": {},
   "outputs": [],
   "source": [
    "mbre_liste = {\n",
    "    \"Les boss\" : \"img.jpg\",\n",
    "    \"Djoko\": \"img.jpg\",\n",
    "    \"Silvec\": \"img.jpg\",\n",
    "    \"Zippo\": \"img.jpg\",\n",
    "    \"Typh\": \"img.jpg\",\n",
    "    \"Ana\": \"img.jpg\",\n",
    "    \"Booléen\": \"img.jpg\",\n",
    "    \"Saké\": \"img.jpg\",\n",
    "    \"Titane\": \"img.jpg\",\n",
    "    \"Noisette Très Chouette\": \"img.jpg\",\n",
    "    \"Ev\": \"img.jpg\",\n",
    "    \"Wouali\": \"img.jpg\",\n",
    "    \"Mowgli\": \"img.jpg\",\n",
    "    \"Benj\": \"img.jpg\",\n",
    "    \"Teecs\": \"img.jpg\",\n",
    "    \"Karnas\": \"img.jpg\",\n",
    "    \"Belek\": \"img.jpg\",\n",
    "    \"Crayon\": \"img.jpg\",\n",
    "    \"Clutch\": \"img.jpg\",\n",
    "    \"Flash\": \"img.jpg\",\n",
    "    \"Fluffy\": \"img.jpg\",\n",
    "    \"Jane\": \"img.jpg\",\n",
    "    \"Marionnette\": \"img.jpg\",\n",
    "    \"Scooby\": \"img.jpg\",\n",
    "    \"Tom\": \"img.jpg\",\n",
    "    \"Ravel\": \"img.jpg\",\n",
    "    \"Fortiche\": \"img.jpg\",  \n",
    "    \"Cornichon\": \"img.jpg\"\n",
    "}\n",
    "\n",
    "# Définir les groupes de rareté\n",
    "quasi_impossible = [\"Les boss\"]\n",
    "legendaire = [\"Zippo\"]\n",
    "tres_tres_rare = [\"Saké\", \"Ev\", \"Titane\", \"Crayon\"]\n",
    "rare = [\"Wouali\", \"Mowgli\", \"Belek\", \"Scooby\", \"Silvec\", \"Tom\"]\n",
    "commun = [name for name in mbre_liste.keys() if name not in quasi_impossible + legendaire + tres_tres_rare + rare]\n"
   ]
  },
  {
   "cell_type": "code",
   "execution_count": 32,
   "metadata": {},
   "outputs": [
    {
     "data": {
      "text/plain": [
       "['Les boss']"
      ]
     },
     "execution_count": 32,
     "metadata": {},
     "output_type": "execute_result"
    }
   ],
   "source": [
    "quasi_impossible"
   ]
  },
  {
   "cell_type": "code",
   "execution_count": 28,
   "metadata": {},
   "outputs": [],
   "source": [
    "#On crée la liste des poissons communs:\n",
    "commun_poissons = poissons[poissons['rarete'].str.strip() == 'Commun']['nom_poisson'].tolist()\n",
    "#On crée la liste des poissons rares:\n",
    "rare_poissons = poissons[poissons['rarete'].str.strip() == 'Rare']['nom_poisson'].tolist()\n",
    "\n",
    "#On crée la liste des poissons très rares:\n",
    "tres_rare_poissons = poissons[poissons['rarete'].str.strip() == 'Très rare']['nom_poisson'].tolist()\n",
    "\n",
    "#On crée la liste des 1110 poissons en fonction de leur rareté:\n",
    "poissons = commun_poissons*300 + rare_poissons*100 + tres_rare_poissons*10"
   ]
  },
  {
   "cell_type": "code",
   "execution_count": 7,
   "metadata": {},
   "outputs": [
    {
     "data": {
      "text/html": [
       "<div>\n",
       "<style scoped>\n",
       "    .dataframe tbody tr th:only-of-type {\n",
       "        vertical-align: middle;\n",
       "    }\n",
       "\n",
       "    .dataframe tbody tr th {\n",
       "        vertical-align: top;\n",
       "    }\n",
       "\n",
       "    .dataframe thead th {\n",
       "        text-align: right;\n",
       "    }\n",
       "</style>\n",
       "<table border=\"1\" class=\"dataframe\">\n",
       "  <thead>\n",
       "    <tr style=\"text-align: right;\">\n",
       "      <th></th>\n",
       "      <th>ID_Joueur</th>\n",
       "      <th>Nbre_charge</th>\n",
       "      <th>Tps_recharge</th>\n",
       "      <th>Score</th>\n",
       "      <th>inventaire</th>\n",
       "    </tr>\n",
       "  </thead>\n",
       "  <tbody>\n",
       "    <tr>\n",
       "      <th>0</th>\n",
       "      <td>1</td>\n",
       "      <td>3</td>\n",
       "      <td>Null</td>\n",
       "      <td>0</td>\n",
       "      <td>[]</td>\n",
       "    </tr>\n",
       "  </tbody>\n",
       "</table>\n",
       "</div>"
      ],
      "text/plain": [
       "   ID_Joueur  Nbre_charge Tps_recharge  Score inventaire\n",
       "0          1            3         Null      0         []"
      ]
     },
     "execution_count": 7,
     "metadata": {},
     "output_type": "execute_result"
    }
   ],
   "source": [
    "import pandas as pd\n",
    "df = pd.read_csv(\"assets/bdd.csv\",sep=\";\")\n",
    "\n",
    "df.head()"
   ]
  },
  {
   "cell_type": "markdown",
   "metadata": {},
   "source": [
    " # TEST DES FONCTIONS "
   ]
  },
  {
   "cell_type": "code",
   "execution_count": 81,
   "metadata": {},
   "outputs": [],
   "source": [
    "## Header (import des librairies)\n",
    "import pandas as pd\n",
    "import datetime as dt\n",
    "from variables import *\n"
   ]
  },
  {
   "cell_type": "code",
   "execution_count": null,
   "metadata": {},
   "outputs": [],
   "source": [
    "def update_csv_nvx_joueur(li):\n",
    "    with open(\"assets/bdd.csv\",\"a\") as f:\n",
    "        for i in range(len(li)-1):\n",
    "            f.write(f\"{li[i]};\")\n",
    "        f.write(f\"{li[-1]}\\n\")\n",
    "    return\n",
    "\n",
    "def update_csv_après_pêche():\n",
    "    with open(\"assets/bdd.csv\",\"a+\") as f:\n",
    "        return"
   ]
  },
  {
   "cell_type": "code",
   "execution_count": null,
   "metadata": {},
   "outputs": [
    {
     "name": "stdout",
     "output_type": "stream",
     "text": [
      "2\n"
     ]
    }
   ],
   "source": [
    "\n",
    "update_csv_nvx_joueur([\"5\",\"3\",\"Null\",\"0\",\"[]\"])\n",
    "print(2)"
   ]
  },
  {
   "cell_type": "code",
   "execution_count": null,
   "metadata": {},
   "outputs": [],
   "source": [
    "\n",
    "def check_ID(ID:int): # -> fonction à placer au début de chaque commande du bot\n",
    "    df = pd.read_csv(CSV_PATH,sep=\";\")\n",
    "    bool = ID in df[\"ID_Joueur\"].values\n",
    "    if not bool:\n",
    "        time = dt.datetime.now()\n",
    "        #On va créer la liste d'inventaire\n",
    "        #L'indice -1 correspond au poisson ou membre de la liste\n",
    "        #Le chiffre à l'intérieur au nbre de gens dedans (cb de poissons attrapé comme ça en gros)\n",
    "        inventory_init = [0 for k in range(161+28)]\n",
    "        try:\n",
    "            with open(\"assets/bdd.csv\",\"a\") as f:\n",
    "                f.write(f\"{ID};3;{time};0;{inventory_init}\\n\")\n",
    "        except Exception as err:\n",
    "            print(f\"Une erreur s'est produite : {err}\")\n",
    "            return 0\n",
    "\n",
    "    return 1 #Tout s'est bien passé.t s'est bien passé."
   ]
  },
  {
   "cell_type": "code",
   "execution_count": null,
   "metadata": {},
   "outputs": [
    {
     "data": {
      "text/plain": [
       "1"
      ]
     },
     "execution_count": 51,
     "metadata": {},
     "output_type": "execute_result"
    }
   ],
   "source": [
    "check_ID(12)"
   ]
  },
  {
   "cell_type": "code",
   "execution_count": null,
   "metadata": {},
   "outputs": [],
   "source": [
    "\n",
    "def check_charge(ID:int): \n",
    "    assert check_ID(ID), \"Erreur de vérification de l'ID du joueur\"\n",
    "    # Lecture du fichier csv puis stockage dans un DataFrame\n",
    "    df = pd.read_csv(CSV_PATH,sep=\";\")\n",
    "\n",
    "    # On récupère le nombre de charges du joueur\n",
    "    charge = df.loc[df[\"ID_Joueur\"]==ID,\"Nbre_charge\"].values[0]\n",
    "    tps_actuel = dt.datetime.now()\n",
    "    tps_last_recharge = dt.datetime.strptime(df.loc[df[\"ID_Joueur\"]==ID,\"Tps_recharge\"].values[0],\"%Y-%m-%d %H:%M:%S.%f\")\n",
    "\n",
    "    # On vérifie le temps écoulé depuis la dernière recharge\n",
    "    if tps_actuel - tps_last_recharge > dt.timedelta(minutes=20):\n",
    "        charge += 1\n",
    "    elif tps_actuel - tps_last_recharge > dt.timedelta(minutes=40):\n",
    "        charge += 2\n",
    "    elif tps_actuel - tps_last_recharge > dt.timedelta(minutes=60):\n",
    "        charge += 3\n",
    "\n",
    "    # On vérifie que le nombre de charges n'est pas supérieur à 3\n",
    "    if charge>3:\n",
    "        charge = 3\n",
    "\n",
    "    return charge"
   ]
  },
  {
   "cell_type": "code",
   "execution_count": null,
   "metadata": {},
   "outputs": [
    {
     "data": {
      "text/plain": [
       "3"
      ]
     },
     "execution_count": 53,
     "metadata": {},
     "output_type": "execute_result"
    }
   ],
   "source": [
    "check_charge(12)"
   ]
  },
  {
   "cell_type": "code",
   "execution_count": null,
   "metadata": {},
   "outputs": [
    {
     "ename": "NameError",
     "evalue": "name 'pechables' is not defined",
     "output_type": "error",
     "traceback": [
      "\u001b[1;31m---------------------------------------------------------------------------\u001b[0m",
      "\u001b[1;31mNameError\u001b[0m                                 Traceback (most recent call last)",
      "\u001b[1;32mc:\\Users\\cohen\\OneDrive\\Debian_ordi\\bot_discord\\fishingbot\\test.ipynb Cell 16\u001b[0m line \u001b[0;36m1\n\u001b[1;32m----> <a href='vscode-notebook-cell:/c%3A/Users/cohen/OneDrive/Debian_ordi/bot_discord/fishingbot/test.ipynb#X30sZmlsZQ%3D%3D?line=0'>1</a>\u001b[0m pechables\n",
      "\u001b[1;31mNameError\u001b[0m: name 'pechables' is not defined"
     ]
    }
   ],
   "source": [
    "pechables"
   ]
  },
  {
   "cell_type": "code",
   "execution_count": 99,
   "metadata": {},
   "outputs": [
    {
     "name": "stdout",
     "output_type": "stream",
     "text": [
      "[('Les boss', 'img.jpg'), ('Requin Boobs', 'shark_boobs.jpg'), ('Djoko', 'img.jpg'), ('Silvec', 'img.jpg'), ('Zippo', 'img.jpg'), ('Typh', 'img.jpg'), ('Ana', 'img.jpg'), ('Booléen', 'img.jpg'), ('Saké', 'img.jpg'), ('Titane', 'img.jpg'), ('Noisette Très Chouette', 'img.jpg'), ('Ev', 'img.jpg'), ('Wouali', 'img.jpg'), ('Mowgli', 'img.jpg'), ('Benj', 'img.jpg'), ('Teecs', 'img.jpg'), ('Karnas', 'img.jpg'), ('Belek', 'img.jpg'), ('Crayon', 'img.jpg'), ('Clutch', 'img.jpg'), ('Flash', 'img.jpg'), ('Fluffy', 'img.jpg'), ('Jane', 'img.jpg'), ('Marionnette', 'img.jpg'), ('Scooby', 'img.jpg'), ('Tom', 'img.jpg'), ('Ravel', 'img.jpg'), ('Fortiche', 'img.jpg'), ('Cornichon', 'img.jpg')]\n",
      "[('Arapaïma', 'https://static1.millenium.org/articles/9/36/15/39/@/1343244-1310157-1315803-sakana-44-i-64x64-2-64x64-2-64x64-1.png'), ('Arowana', 'https://static1.millenium.org/articles/9/36/15/39/@/1343247-1310160-1315809-sakana-41-i-64x64-2-64x64-2-64x64-1.png'), ('Ayu', 'https://static1.millenium.org/articles/9/36/15/39/@/1343250-1310154-sakana-26-i-64x64-2-64x64-1.png'), ('Bar', 'https://static1.millenium.org/articles/9/36/15/39/@/1343253-1309770-bar-64x64-2-64x64-1.png'), ('Bichir', 'https://static1.millenium.org/articles/9/36/15/39/@/1343256-1310124-sakana-45-i-64x64-2-64x64-1.png'), ('Bouvière', 'https://static1.millenium.org/articles/9/36/15/39/@/1343259-1322841-1314843-2020-03-24-11-05-53-window-64x64-1-64x64-1-64x64-1.png'), ('Brochet', 'https://static1.millenium.org/articles/9/36/15/39/@/1343262-1310190-sakana-24-i-64x64-2-64x64-1.png'), ('Carassin', 'https://static1.millenium.org/articles/9/36/15/39/@/1343265-1309773-carassin-64x64-2-64x64-1.png'), ('Chevaine', 'https://static1.millenium.org/articles/9/36/15/39/@/1343268-1309782-chevaine-64x64-2-64x64-1.png'), ('Combattant', 'https://static1.millenium.org/articles/9/36/15/39/@/1343271-1317933-sakana-37-i-64x64-1-64x64-1.png'), ('Crabe chinois', 'https://static1.millenium.org/articles/9/36/15/39/@/1343274-1310193-sakana-33-i-64x64-2-64x64-1.png'), ('Crapet', 'https://static1.millenium.org/articles/9/36/15/39/@/1343277-1309785-crapet-64x64-2-64x64-1.png'), ('Dai yu', 'https://static1.millenium.org/articles/9/36/15/39/@/1343280-1310217-1315779-sakana-30-i-64x64-2-64x64-2-64x64-1.png'), ('Dorade', 'https://static1.millenium.org/articles/9/36/15/39/@/1343283-1310127-1315791-sakana-42-i-64x64-2-64x64-2-64x64-1.png'), ('Eperlan', 'https://static1.millenium.org/articles/9/36/15/39/@/1343286-1310220-sakana-25-i-64x64-2-64x64-1.png'), ('Esturgeon', 'https://static1.millenium.org/articles/9/36/15/39/@/1343289-1312350-esturgeon-64x64-2-64x64-1.png'), (\"Gobie d'eau douce\", 'https://static1.millenium.org/articles/9/36/15/39/@/1343292-sakana-16-i-64x64-2.png'), ('Guppy', 'https://static1.millenium.org/articles/9/36/15/39/@/1343295-1310019-sakana-34-i-64x64-2-64x64-1.png'), (\"Loche d'étang\", 'https://static1.millenium.org/articles/9/36/15/39/@/1343298-sakana-17-i-64x64-2.png'), ('Néon bleu', 'https://static1.millenium.org/articles/9/36/15/39/@/1343301-1309989-sakana-38-i-64x64-3-64x64-1.png'), ('Omble', 'https://static1.millenium.org/articles/9/36/15/39/@/1343304-1309956-2020-03-24-11-09-51-window-64x64-2-64x64-1.png'), ('Perche jaune', 'https://static1.millenium.org/articles/9/36/15/39/@/1343307-1309998-perche-jaune-64x64-2-64x64-1.png'), ('Piranha', 'https://static1.millenium.org/articles/9/36/15/39/@/1343310-1310130-sakana-40-i-64x64-2-64x64-1.png'), ('Poisson arc-en-ciel', 'https://static1.millenium.org/articles/9/36/15/39/@/1343313-1310103-sakana-39-i-64x64-2-64x64-1.png'), ('Poisson docteur', 'https://static1.millenium.org/articles/9/36/15/39/@/1343316-1310052-sakana-35-i-64x64-2-64x64-1.png'), ('Poisson-ange', 'https://static1.millenium.org/articles/9/36/15/39/@/1343319-1310055-sakana-36-i-64x64-2-64x64-1.png'), ('Saumon', 'https://static1.millenium.org/articles/9/36/15/39/@/1343322-1310199-sakana-31-i-64x64-2-64x64-1.png'), ('Saumon masou', 'https://static1.millenium.org/articles/9/36/15/39/@/1343325-1314549-sakana-27-i-1-64x64-2-64x64-1.png'), ('Saumon roi', 'https://static1.millenium.org/articles/9/36/15/39/@/1343328-1310196-sakana-32-i-64x64-2-64x64-1.png'), ('Tilapia', 'https://static1.millenium.org/articles/9/36/15/39/@/1343331-1315503-sakana-23-i-64x64-2-64x64-1.png'), ('Tortue serpentine', 'https://static1.millenium.org/articles/9/36/15/39/@/1343334-1317927-sakana-13-i-64x64-1-64x64-1.png'), ('Tortue trionyx', 'https://static1.millenium.org/articles/9/36/15/39/@/1343337-1310163-155472-sakana-12-i-64x64-1-64x64-2-64x64-1.png'), ('Truite dorée', 'https://static1.millenium.org/articles/9/36/15/39/@/1343340-1315050-doree-64x64-2-64x64-1.png'), ('Vandoise', 'https://static1.millenium.org/articles/9/36/15/39/@/1343343-1309794-vandoise-64x64-2-64x64-1.png'), ('Carpe', 'https://static1.millenium.org/articles/9/36/15/39/@/1343346-1309776-carpe-64x64-2-64x64-1.png'), ('Carpe Koï', 'https://static1.millenium.org/articles/9/36/15/39/@/1343349-1309953-carpe-koi-64x64-2-64x64-1.png'), ('Cyprin doré', 'https://static1.millenium.org/articles/9/36/15/39/@/1343352-1309788-1315833-sakana-8-i-64x64-2-64x64-2-64x64-1.png'), ('Ecrevisse', 'https://static1.millenium.org/articles/9/36/15/39/@/1343355-1309971-155469-sakana-11-i-64x64-1-64x64-2-64x64-1.png'), ('Fondule barré', 'https://static1.millenium.org/articles/9/36/15/39/@/1343358-1309983-155466-sakana-10-i-64x64-1-64x64-3-64x64-1.png'), ('Gar', 'https://static1.millenium.org/articles/9/36/15/39/@/1343361-1310040-gar-64x64-3-64x64-1.png'), ('Grenouille', 'https://static1.millenium.org/articles/9/36/15/39/@/1343364-1310061-sakana-15-i-64x64-2-64x64-1.png'), ('Poisson rouge', 'https://static1.millenium.org/articles/9/36/15/39/@/1343367-1309779-poisson-rouge-64x64-2-64x64-1.png'), ('Ranchu', 'https://static1.millenium.org/articles/9/36/15/39/@/1343370-1315497-155460-sakana-9-i-64x64-1-64x64-2-64x64-1.png'), ('Silure', 'https://static1.millenium.org/articles/9/36/15/39/@/1343373-1310058-155547-sakana-18-i-64x64-1-64x64-2-64x64-1.png'), ('Têtard', 'https://static1.millenium.org/articles/9/36/15/39/@/1343376-sakana-14-i-64x64-2.png'), ('Tête-de-serpent', 'https://static1.millenium.org/articles/9/36/15/39/@/1343379-1310151-sakana-19-i-64x64-2-64x64-1.png'), ('Anchois', 'https://static1.millenium.org/articles/9/36/15/39/@/1343382-1312347-sakana-56-i-64x64-2-64x64-1.png'), ('Bar commun', 'https://static1.millenium.org/articles/9/36/15/39/@/1343385-1309797-bar-commun-64x64-2-64x64-1.png'), ('Calmar', 'https://static1.millenium.org/articles/9/36/15/39/@/1343388-1314567-2020-03-24-11-03-39-window-64x64-1-64x64-1.png'), ('Carangue grosse tête', 'https://static1.millenium.org/articles/9/36/15/39/@/1343391-1319277-sakana-68-i-64x64-1-64x64-1.png'), ('Cardeau', 'https://static1.millenium.org/articles/9/36/15/39/@/1343394-1309800-cardeau-64x64-2-64x64-1.png'), ('Chinchard', 'https://static1.millenium.org/articles/9/36/15/39/@/1343397-1309803-chinchard-64x64-2-64x64-1.png'), ('Clione', 'https://static1.millenium.org/articles/9/36/15/39/@/1343400-1314783-2020-03-24-11-09-23-window-64x64-1-64x64-1.png'), ('Coryphène', 'https://static1.millenium.org/articles/9/36/15/39/@/1343403-1317930-sakana-69-i-64x64-1-64x64-1.png'), ('Coelacanthe', 'https://static1.millenium.org/articles/9/36/15/39/@/1343406-sakana-80-i-64x64-2.png'), ('Gard requin blanc', 'https://static1.millenium.org/articles/9/36/15/39/@/1343409-1310136-1315788-sakana-74-i-64x64-2-64x64-2-64x64-1.png'), ('Hippocampe', 'https://static1.millenium.org/articles/9/36/15/39/@/1343412-1310022-sakana-48-i-64x64-2-64x64-1.png'), ('Limande', 'https://static1.millenium.org/articles/9/36/15/39/@/1343415-1310010-2020-03-24-11-02-20-window-64x64-2-64x64-1.png'), ('Lune de mer', 'https://static1.millenium.org/articles/9/36/15/39/@/1343418-1310139-sakana-70-i-64x64-2-64x64-1.png'), ('Macropinna', 'https://static1.millenium.org/articles/9/36/15/39/@/1343421-sakana-79-i-64x64-2.png'), ('Marlin bleu', 'https://static1.millenium.org/articles/9/36/15/39/@/1343424-1310172-1315806-sakana-67-i-64x64-2-64x64-2-64x64-1.png'), ('Murène', 'https://static1.millenium.org/articles/9/36/15/39/@/1343427-1310184-sakana-64-i-64x64-2-64x64-1.png'), ('Murène ruban bleue', 'https://static1.millenium.org/articles/9/36/15/39/@/1343430-1317942-sakana-65-i-64x64-1-64x64-1.png'), ('Napoléon', 'https://static1.millenium.org/articles/9/36/15/39/@/1343433-1310175-1315812-sakana-52-i-64x64-2-64x64-2-64x64-1.png'), ('Poisson chirurgien', 'https://static1.millenium.org/articles/9/36/15/39/@/1343436-1310064-sakana-50-i-64x64-2-64x64-1.png'), ('Poisson lanterne', 'https://static1.millenium.org/articles/9/36/15/39/@/1343439-1310109-2020-03-24-11-15-08-window-64x64-2-64x64-1.png'), ('Poisson-ballon', 'https://static1.millenium.org/articles/9/36/15/39/@/1343442-1310211-sakana-54-i-64x64-2-64x64-1.png'), ('Poisson-clown', 'https://static1.millenium.org/articles/9/36/15/39/@/1343445-1310094-sakana-49-i-64x64-2-64x64-1.png'), ('Poisson-papillon', 'https://static1.millenium.org/articles/9/36/15/39/@/1343448-1310091-sakana-51-i-64x64-2-64x64-1.png'), ('Poisson porc-épic', 'https://static1.millenium.org/articles/9/36/15/39/@/1343451-1310178-sakana-55-i-64x64-2-64x64-1.png'), ('Poisson-ruban', 'https://static1.millenium.org/articles/9/36/15/39/@/1343454-1310112-2020-03-24-11-02-39-window-64x64-2-64x64-1.png'), ('Poisson-scorpion', 'https://static1.millenium.org/articles/9/36/15/39/@/1343457-1310073-sakana-53-i-64x64-2-64x64-1.png'), ('Raie', 'https://static1.millenium.org/articles/9/36/15/39/@/1343460-1310187-sakana-71-i-64x64-2-64x64-1.png'), ('Rémora rayé', 'https://static1.millenium.org/articles/9/36/15/39/@/1343463-1317939-sakana-76-i-64x64-1-64x64-1.png'), ('Requin marteau', 'https://static1.millenium.org/articles/9/36/15/39/@/1343466-1310166-1315818-sakana-73-i-64x64-2-64x64-2-64x64-1.png'), ('Requin scie', 'https://static1.millenium.org/articles/9/36/15/39/@/1343469-1310169-1315800-sakana-72-i-64x64-2-64x64-2-64x64-1.png'), ('Requin baleine', 'https://static1.millenium.org/articles/9/36/15/39/@/1343472-1315488-1315797-sakana-75-i-64x64-2-64x64-2-64x64-1.png'), ('Scarus', 'https://static1.millenium.org/articles/9/36/15/39/@/1343475-1309974-2020-03-24-11-01-40-window-64x64-2-64x64-1.png'), ('Thon', 'https://static1.millenium.org/articles/9/36/15/39/@/1343478-sakana-66-i-64x64-2.png'), ('Vivaneau', 'https://static1.millenium.org/articles/9/36/15/39/@/1343481-1309809-vivaneau-64x64-2-64x64-1.png'), ('Arapaïma', 'https://static1.millenium.org/articles/9/36/15/39/@/1343757-1310157-1315803-sakana-44-i-64x64-2-64x64-2-64x64-1.png'), ('Arowana', 'https://static1.millenium.org/articles/9/36/15/39/@/1343760-1310160-1315809-sakana-41-i-64x64-2-64x64-2-64x64-1.png'), ('Ayu', 'https://static1.millenium.org/articles/9/36/15/39/@/1343763-1310154-sakana-26-i-64x64-2-64x64-1.png'), ('Bar', 'https://static1.millenium.org/articles/9/36/15/39/@/1343766-1309770-bar-64x64-2-64x64-1.png'), ('Bichir', 'https://static1.millenium.org/articles/9/36/15/39/@/1343769-1310124-sakana-45-i-64x64-2-64x64-1.png'), ('Bouvière', 'https://static1.millenium.org/articles/9/36/15/39/@/1343772-1322841-1314843-2020-03-24-11-05-53-window-64x64-1-64x64-1-64x64-1.png'), ('Brochet', 'https://static1.millenium.org/articles/9/36/15/39/@/1343775-1310190-sakana-24-i-64x64-2-64x64-1.png'), ('Carassin', 'https://static1.millenium.org/articles/9/36/15/39/@/1343778-1309773-carassin-64x64-2-64x64-1.png'), ('Chevaine', 'https://static1.millenium.org/articles/9/36/15/39/@/1343781-1309782-chevaine-64x64-2-64x64-1.png'), ('Combattant', 'https://static1.millenium.org/articles/9/36/15/39/@/1343784-1317933-sakana-37-i-64x64-1-64x64-1.png'), ('Crabe chinois', 'https://static1.millenium.org/articles/9/36/15/39/@/1343787-1310193-sakana-33-i-64x64-2-64x64-1.png'), ('Crapet', 'https://static1.millenium.org/articles/9/36/15/39/@/1343790-1309785-crapet-64x64-2-64x64-1.png'), ('Dai yu', 'https://static1.millenium.org/articles/9/36/15/39/@/1343793-1310217-1315779-sakana-30-i-64x64-2-64x64-2-64x64-1.png'), ('Dorade', 'https://static1.millenium.org/articles/9/36/15/39/@/1343796-1310127-1315791-sakana-42-i-64x64-2-64x64-2-64x64-1.png'), ('Eperlan', 'https://static1.millenium.org/articles/9/36/15/39/@/1343799-1310220-sakana-25-i-64x64-2-64x64-1.png'), ('Esturgeon', 'https://static1.millenium.org/articles/9/36/15/39/@/1343802-1312350-esturgeon-64x64-2-64x64-1.png'), (\"Gobie d'eau douce\", 'https://static1.millenium.org/articles/9/36/15/39/@/1343805-sakana-16-i-64x64-2.png'), ('Guppy', 'https://static1.millenium.org/articles/9/36/15/39/@/1343808-1310019-sakana-34-i-64x64-2-64x64-1.png'), (\"Loche d'étang\", 'https://static1.millenium.org/articles/9/36/15/39/@/1343811-sakana-17-i-64x64-1.png'), ('Néon bleu', 'https://static1.millenium.org/articles/9/36/15/39/@/1343814-1309989-sakana-38-i-64x64-3-64x64-1.png'), ('Omble', 'https://static1.millenium.org/articles/9/36/15/39/@/1343817-1309956-2020-03-24-11-09-51-window-64x64-2-64x64-1.png'), ('Perche jaune', 'https://static1.millenium.org/articles/9/36/15/39/@/1343820-1309998-perche-jaune-64x64-2-64x64-1.png'), ('Piranha', 'https://static1.millenium.org/articles/9/36/15/39/@/1343823-1310130-sakana-40-i-64x64-2-64x64-1.png'), ('Poisson arc-en-ciel', 'https://static1.millenium.org/articles/9/36/15/39/@/1343826-1310103-sakana-39-i-64x64-2-64x64-1.png'), ('Poisson docteur', 'https://static1.millenium.org/articles/9/36/15/39/@/1343829-1310052-sakana-35-i-64x64-2-64x64-1.png'), ('Poisson-ange', 'https://static1.millenium.org/articles/9/36/15/39/@/1343832-1310055-sakana-36-i-64x64-2-64x64-1.png'), ('Saumon', 'https://static1.millenium.org/articles/9/36/15/39/@/1343835-1310199-sakana-31-i-64x64-2-64x64-1.png'), ('Saumon masou', 'https://static1.millenium.org/articles/9/36/15/39/@/1343838-1314549-sakana-27-i-1-64x64-2-64x64-1.png'), ('Saumon roi', 'https://static1.millenium.org/articles/9/36/15/39/@/1343841-1310196-sakana-32-i-64x64-2-64x64-1.png'), ('Tilapia', 'https://static1.millenium.org/articles/9/36/15/39/@/1343844-1315503-sakana-23-i-64x64-2-64x64-1.png'), ('Tortue serpentine', 'https://static1.millenium.org/articles/9/36/15/39/@/1343847-1317927-sakana-13-i-64x64-1-64x64-1.png'), ('Tortue trionyx', 'https://static1.millenium.org/articles/9/36/15/39/@/1343850-1310163-155472-sakana-12-i-64x64-1-64x64-2-64x64-1.png'), ('Truite dorée', 'https://static1.millenium.org/articles/9/36/15/39/@/1343853-1315050-doree-64x64-2-64x64-1.png'), ('Vandoise', 'https://static1.millenium.org/articles/9/36/15/39/@/1343856-1309794-vandoise-64x64-2-64x64-1.png'), ('Carpe', 'https://static1.millenium.org/articles/9/36/15/39/@/1343859-1309776-carpe-64x64-2-64x64-1.png'), ('Carpe Koï', 'https://static1.millenium.org/articles/9/36/15/39/@/1343862-1309953-carpe-koi-64x64-2-64x64-1.png'), ('Cyprin doré', 'https://static1.millenium.org/articles/9/36/15/39/@/1343865-1309788-1315833-sakana-8-i-64x64-2-64x64-2-64x64-1.png'), ('Ecrevisse', 'https://static1.millenium.org/articles/9/36/15/39/@/1343868-1309971-155469-sakana-11-i-64x64-1-64x64-2-64x64-1.png'), ('Fondule barré', 'https://static1.millenium.org/articles/9/36/15/39/@/1343871-1309983-155466-sakana-10-i-64x64-1-64x64-3-64x64-1.png'), ('Gar', 'https://static1.millenium.org/articles/9/36/15/39/@/1343874-1310040-gar-64x64-3-64x64-1.png'), ('Grenouille', 'https://static1.millenium.org/articles/9/36/15/39/@/1343877-1310061-sakana-15-i-64x64-2-64x64-1.png'), ('Poisson rouge', 'https://static1.millenium.org/articles/9/36/15/39/@/1343880-1309779-poisson-rouge-64x64-2-64x64-1.png'), ('Ranchu', 'https://static1.millenium.org/articles/9/36/15/39/@/1343883-1315497-155460-sakana-9-i-64x64-1-64x64-2-64x64-1.png'), ('Silure', 'https://static1.millenium.org/articles/9/36/15/39/@/1343886-1310058-155547-sakana-18-i-64x64-1-64x64-2-64x64-1.png'), ('Têtard', 'https://static1.millenium.org/articles/9/36/15/39/@/1343889-sakana-14-i-64x64-1.png'), ('Tête-de-serpent', 'https://static1.millenium.org/articles/9/36/15/39/@/1343892-1310151-sakana-19-i-64x64-2-64x64-1.png'), ('Anchois', 'https://static1.millenium.org/articles/9/36/15/39/@/1343895-1312347-sakana-56-i-64x64-2-64x64-1.png'), ('Bar commun', 'https://static1.millenium.org/articles/9/36/15/39/@/1343898-1309797-bar-commun-64x64-2-64x64-1.png'), ('Calmar', 'https://static1.millenium.org/articles/9/36/15/39/@/1343901-1314567-2020-03-24-11-03-39-window-64x64-1-64x64-1.png'), ('Carangue grosse tête', 'https://static1.millenium.org/articles/9/36/15/39/@/1343904-1319277-sakana-68-i-64x64-1-64x64-1.png'), ('Cardeau', 'https://static1.millenium.org/articles/9/36/15/39/@/1343907-1309800-cardeau-64x64-2-64x64-1.png'), ('Chinchard', 'https://static1.millenium.org/articles/9/36/15/39/@/1343910-1309803-chinchard-64x64-2-64x64-1.png'), ('Clione', 'https://static1.millenium.org/articles/9/36/15/39/@/1343913-1314783-2020-03-24-11-09-23-window-64x64-1-64x64-1.png'), ('Coryphène', 'https://static1.millenium.org/articles/9/36/15/39/@/1343916-1317930-sakana-69-i-64x64-1-64x64-1.png'), ('Coelacanthe', 'https://static1.millenium.org/articles/9/36/15/39/@/1343919-sakana-80-i-64x64-1.png'), ('Gard requin blanc', 'https://static1.millenium.org/articles/9/36/15/39/@/1343922-1310136-1315788-sakana-74-i-64x64-2-64x64-2-64x64-1.png'), ('Hippocampe', 'https://static1.millenium.org/articles/9/36/15/39/@/1343925-1310022-sakana-48-i-64x64-2-64x64-1.png'), ('Limande', 'https://static1.millenium.org/articles/9/36/15/39/@/1343928-1310010-2020-03-24-11-02-20-window-64x64-2-64x64-1.png'), ('Lune de mer', 'https://static1.millenium.org/articles/9/36/15/39/@/1343931-1310139-sakana-70-i-64x64-2-64x64-1.png'), ('Macropinna', 'https://static1.millenium.org/articles/9/36/15/39/@/1343934-sakana-79-i-64x64-1.png'), ('Marlin bleu', 'https://static1.millenium.org/articles/9/36/15/39/@/1343937-1310172-1315806-sakana-67-i-64x64-2-64x64-2-64x64-1.png'), ('Murène', 'https://static1.millenium.org/articles/9/36/15/39/@/1343940-1310184-sakana-64-i-64x64-2-64x64-1.png'), ('Murène ruban bleue', 'https://static1.millenium.org/articles/9/36/15/39/@/1343943-1317942-sakana-65-i-64x64-1-64x64-1.png'), ('Napoléon', 'https://static1.millenium.org/articles/9/36/15/39/@/1343946-1310175-1315812-sakana-52-i-64x64-2-64x64-2-64x64-1.png'), ('Poisson chirurgien', 'https://static1.millenium.org/articles/9/36/15/39/@/1343949-1310064-sakana-50-i-64x64-2-64x64-1.png'), ('Poisson lanterne', 'https://static1.millenium.org/articles/9/36/15/39/@/1343952-1310109-2020-03-24-11-15-08-window-64x64-2-64x64-1.png'), ('Poisson-ballon', 'https://static1.millenium.org/articles/9/36/15/39/@/1343955-1310211-sakana-54-i-64x64-2-64x64-1.png'), ('Poisson-clown', 'https://static1.millenium.org/articles/9/36/15/39/@/1343958-1310094-sakana-49-i-64x64-2-64x64-1.png'), ('Poisson-papillon', 'https://static1.millenium.org/articles/9/36/15/39/@/1343961-1310091-sakana-51-i-64x64-2-64x64-1.png'), ('Poisson porc-épic', 'https://static1.millenium.org/articles/9/36/15/39/@/1343964-1310178-sakana-55-i-64x64-2-64x64-1.png'), ('Poisson-ruban', 'https://static1.millenium.org/articles/9/36/15/39/@/1343967-1310112-2020-03-24-11-02-39-window-64x64-2-64x64-1.png'), ('Poisson-scorpion', 'https://static1.millenium.org/articles/9/36/15/39/@/1343970-1310073-sakana-53-i-64x64-2-64x64-1.png'), ('Raie', 'https://static1.millenium.org/articles/9/36/15/39/@/1343973-1310187-sakana-71-i-64x64-2-64x64-1.png'), ('Rémora rayé', 'https://static1.millenium.org/articles/9/36/15/39/@/1343976-1317939-sakana-76-i-64x64-1-64x64-1.png'), ('Requin marteau', 'https://static1.millenium.org/articles/9/36/15/39/@/1343979-1310166-1315818-sakana-73-i-64x64-2-64x64-2-64x64-1.png'), ('Requin scie', 'https://static1.millenium.org/articles/9/36/15/39/@/1343982-1310169-1315800-sakana-72-i-64x64-2-64x64-2-64x64-1.png'), ('Requin baleine', 'https://static1.millenium.org/articles/9/36/15/39/@/1343985-1315488-1315797-sakana-75-i-64x64-2-64x64-2-64x64-1.png'), ('Scarus', 'https://static1.millenium.org/articles/9/36/15/39/@/1343988-1309974-2020-03-24-11-01-40-window-64x64-2-64x64-1.png'), ('Thon', 'https://static1.millenium.org/articles/9/36/15/39/@/1343991-sakana-66-i-64x64-1.png'), ('Vivaneau', 'https://static1.millenium.org/articles/9/36/15/39/@/1343994-1309809-vivaneau-64x64-2-64x64-1.png')]\n",
      "[('Les boss', 'img.jpg'), ('Requin Boobs', 'shark_boobs.jpg'), ('Djoko', 'img.jpg'), ('Silvec', 'img.jpg'), ('Zippo', 'img.jpg'), ('Typh', 'img.jpg'), ('Ana', 'img.jpg'), ('Booléen', 'img.jpg'), ('Saké', 'img.jpg'), ('Titane', 'img.jpg'), ('Noisette Très Chouette', 'img.jpg'), ('Ev', 'img.jpg'), ('Wouali', 'img.jpg'), ('Mowgli', 'img.jpg'), ('Benj', 'img.jpg'), ('Teecs', 'img.jpg'), ('Karnas', 'img.jpg'), ('Belek', 'img.jpg'), ('Crayon', 'img.jpg'), ('Clutch', 'img.jpg'), ('Flash', 'img.jpg'), ('Fluffy', 'img.jpg'), ('Jane', 'img.jpg'), ('Marionnette', 'img.jpg'), ('Scooby', 'img.jpg'), ('Tom', 'img.jpg'), ('Ravel', 'img.jpg'), ('Fortiche', 'img.jpg'), ('Cornichon', 'img.jpg'), ('Arapaïma', 'https://static1.millenium.org/articles/9/36/15/39/@/1343244-1310157-1315803-sakana-44-i-64x64-2-64x64-2-64x64-1.png'), ('Arowana', 'https://static1.millenium.org/articles/9/36/15/39/@/1343247-1310160-1315809-sakana-41-i-64x64-2-64x64-2-64x64-1.png'), ('Ayu', 'https://static1.millenium.org/articles/9/36/15/39/@/1343250-1310154-sakana-26-i-64x64-2-64x64-1.png'), ('Bar', 'https://static1.millenium.org/articles/9/36/15/39/@/1343253-1309770-bar-64x64-2-64x64-1.png'), ('Bichir', 'https://static1.millenium.org/articles/9/36/15/39/@/1343256-1310124-sakana-45-i-64x64-2-64x64-1.png'), ('Bouvière', 'https://static1.millenium.org/articles/9/36/15/39/@/1343259-1322841-1314843-2020-03-24-11-05-53-window-64x64-1-64x64-1-64x64-1.png'), ('Brochet', 'https://static1.millenium.org/articles/9/36/15/39/@/1343262-1310190-sakana-24-i-64x64-2-64x64-1.png'), ('Carassin', 'https://static1.millenium.org/articles/9/36/15/39/@/1343265-1309773-carassin-64x64-2-64x64-1.png'), ('Chevaine', 'https://static1.millenium.org/articles/9/36/15/39/@/1343268-1309782-chevaine-64x64-2-64x64-1.png'), ('Combattant', 'https://static1.millenium.org/articles/9/36/15/39/@/1343271-1317933-sakana-37-i-64x64-1-64x64-1.png'), ('Crabe chinois', 'https://static1.millenium.org/articles/9/36/15/39/@/1343274-1310193-sakana-33-i-64x64-2-64x64-1.png'), ('Crapet', 'https://static1.millenium.org/articles/9/36/15/39/@/1343277-1309785-crapet-64x64-2-64x64-1.png'), ('Dai yu', 'https://static1.millenium.org/articles/9/36/15/39/@/1343280-1310217-1315779-sakana-30-i-64x64-2-64x64-2-64x64-1.png'), ('Dorade', 'https://static1.millenium.org/articles/9/36/15/39/@/1343283-1310127-1315791-sakana-42-i-64x64-2-64x64-2-64x64-1.png'), ('Eperlan', 'https://static1.millenium.org/articles/9/36/15/39/@/1343286-1310220-sakana-25-i-64x64-2-64x64-1.png'), ('Esturgeon', 'https://static1.millenium.org/articles/9/36/15/39/@/1343289-1312350-esturgeon-64x64-2-64x64-1.png'), (\"Gobie d'eau douce\", 'https://static1.millenium.org/articles/9/36/15/39/@/1343292-sakana-16-i-64x64-2.png'), ('Guppy', 'https://static1.millenium.org/articles/9/36/15/39/@/1343295-1310019-sakana-34-i-64x64-2-64x64-1.png'), (\"Loche d'étang\", 'https://static1.millenium.org/articles/9/36/15/39/@/1343298-sakana-17-i-64x64-2.png'), ('Néon bleu', 'https://static1.millenium.org/articles/9/36/15/39/@/1343301-1309989-sakana-38-i-64x64-3-64x64-1.png'), ('Omble', 'https://static1.millenium.org/articles/9/36/15/39/@/1343304-1309956-2020-03-24-11-09-51-window-64x64-2-64x64-1.png'), ('Perche jaune', 'https://static1.millenium.org/articles/9/36/15/39/@/1343307-1309998-perche-jaune-64x64-2-64x64-1.png'), ('Piranha', 'https://static1.millenium.org/articles/9/36/15/39/@/1343310-1310130-sakana-40-i-64x64-2-64x64-1.png'), ('Poisson arc-en-ciel', 'https://static1.millenium.org/articles/9/36/15/39/@/1343313-1310103-sakana-39-i-64x64-2-64x64-1.png'), ('Poisson docteur', 'https://static1.millenium.org/articles/9/36/15/39/@/1343316-1310052-sakana-35-i-64x64-2-64x64-1.png'), ('Poisson-ange', 'https://static1.millenium.org/articles/9/36/15/39/@/1343319-1310055-sakana-36-i-64x64-2-64x64-1.png'), ('Saumon', 'https://static1.millenium.org/articles/9/36/15/39/@/1343322-1310199-sakana-31-i-64x64-2-64x64-1.png'), ('Saumon masou', 'https://static1.millenium.org/articles/9/36/15/39/@/1343325-1314549-sakana-27-i-1-64x64-2-64x64-1.png'), ('Saumon roi', 'https://static1.millenium.org/articles/9/36/15/39/@/1343328-1310196-sakana-32-i-64x64-2-64x64-1.png'), ('Tilapia', 'https://static1.millenium.org/articles/9/36/15/39/@/1343331-1315503-sakana-23-i-64x64-2-64x64-1.png'), ('Tortue serpentine', 'https://static1.millenium.org/articles/9/36/15/39/@/1343334-1317927-sakana-13-i-64x64-1-64x64-1.png'), ('Tortue trionyx', 'https://static1.millenium.org/articles/9/36/15/39/@/1343337-1310163-155472-sakana-12-i-64x64-1-64x64-2-64x64-1.png'), ('Truite dorée', 'https://static1.millenium.org/articles/9/36/15/39/@/1343340-1315050-doree-64x64-2-64x64-1.png'), ('Vandoise', 'https://static1.millenium.org/articles/9/36/15/39/@/1343343-1309794-vandoise-64x64-2-64x64-1.png'), ('Carpe', 'https://static1.millenium.org/articles/9/36/15/39/@/1343346-1309776-carpe-64x64-2-64x64-1.png'), ('Carpe Koï', 'https://static1.millenium.org/articles/9/36/15/39/@/1343349-1309953-carpe-koi-64x64-2-64x64-1.png'), ('Cyprin doré', 'https://static1.millenium.org/articles/9/36/15/39/@/1343352-1309788-1315833-sakana-8-i-64x64-2-64x64-2-64x64-1.png'), ('Ecrevisse', 'https://static1.millenium.org/articles/9/36/15/39/@/1343355-1309971-155469-sakana-11-i-64x64-1-64x64-2-64x64-1.png'), ('Fondule barré', 'https://static1.millenium.org/articles/9/36/15/39/@/1343358-1309983-155466-sakana-10-i-64x64-1-64x64-3-64x64-1.png'), ('Gar', 'https://static1.millenium.org/articles/9/36/15/39/@/1343361-1310040-gar-64x64-3-64x64-1.png'), ('Grenouille', 'https://static1.millenium.org/articles/9/36/15/39/@/1343364-1310061-sakana-15-i-64x64-2-64x64-1.png'), ('Poisson rouge', 'https://static1.millenium.org/articles/9/36/15/39/@/1343367-1309779-poisson-rouge-64x64-2-64x64-1.png'), ('Ranchu', 'https://static1.millenium.org/articles/9/36/15/39/@/1343370-1315497-155460-sakana-9-i-64x64-1-64x64-2-64x64-1.png'), ('Silure', 'https://static1.millenium.org/articles/9/36/15/39/@/1343373-1310058-155547-sakana-18-i-64x64-1-64x64-2-64x64-1.png'), ('Têtard', 'https://static1.millenium.org/articles/9/36/15/39/@/1343376-sakana-14-i-64x64-2.png'), ('Tête-de-serpent', 'https://static1.millenium.org/articles/9/36/15/39/@/1343379-1310151-sakana-19-i-64x64-2-64x64-1.png'), ('Anchois', 'https://static1.millenium.org/articles/9/36/15/39/@/1343382-1312347-sakana-56-i-64x64-2-64x64-1.png'), ('Bar commun', 'https://static1.millenium.org/articles/9/36/15/39/@/1343385-1309797-bar-commun-64x64-2-64x64-1.png'), ('Calmar', 'https://static1.millenium.org/articles/9/36/15/39/@/1343388-1314567-2020-03-24-11-03-39-window-64x64-1-64x64-1.png'), ('Carangue grosse tête', 'https://static1.millenium.org/articles/9/36/15/39/@/1343391-1319277-sakana-68-i-64x64-1-64x64-1.png'), ('Cardeau', 'https://static1.millenium.org/articles/9/36/15/39/@/1343394-1309800-cardeau-64x64-2-64x64-1.png'), ('Chinchard', 'https://static1.millenium.org/articles/9/36/15/39/@/1343397-1309803-chinchard-64x64-2-64x64-1.png'), ('Clione', 'https://static1.millenium.org/articles/9/36/15/39/@/1343400-1314783-2020-03-24-11-09-23-window-64x64-1-64x64-1.png'), ('Coryphène', 'https://static1.millenium.org/articles/9/36/15/39/@/1343403-1317930-sakana-69-i-64x64-1-64x64-1.png'), ('Coelacanthe', 'https://static1.millenium.org/articles/9/36/15/39/@/1343406-sakana-80-i-64x64-2.png'), ('Gard requin blanc', 'https://static1.millenium.org/articles/9/36/15/39/@/1343409-1310136-1315788-sakana-74-i-64x64-2-64x64-2-64x64-1.png'), ('Hippocampe', 'https://static1.millenium.org/articles/9/36/15/39/@/1343412-1310022-sakana-48-i-64x64-2-64x64-1.png'), ('Limande', 'https://static1.millenium.org/articles/9/36/15/39/@/1343415-1310010-2020-03-24-11-02-20-window-64x64-2-64x64-1.png'), ('Lune de mer', 'https://static1.millenium.org/articles/9/36/15/39/@/1343418-1310139-sakana-70-i-64x64-2-64x64-1.png'), ('Macropinna', 'https://static1.millenium.org/articles/9/36/15/39/@/1343421-sakana-79-i-64x64-2.png'), ('Marlin bleu', 'https://static1.millenium.org/articles/9/36/15/39/@/1343424-1310172-1315806-sakana-67-i-64x64-2-64x64-2-64x64-1.png'), ('Murène', 'https://static1.millenium.org/articles/9/36/15/39/@/1343427-1310184-sakana-64-i-64x64-2-64x64-1.png'), ('Murène ruban bleue', 'https://static1.millenium.org/articles/9/36/15/39/@/1343430-1317942-sakana-65-i-64x64-1-64x64-1.png'), ('Napoléon', 'https://static1.millenium.org/articles/9/36/15/39/@/1343433-1310175-1315812-sakana-52-i-64x64-2-64x64-2-64x64-1.png'), ('Poisson chirurgien', 'https://static1.millenium.org/articles/9/36/15/39/@/1343436-1310064-sakana-50-i-64x64-2-64x64-1.png'), ('Poisson lanterne', 'https://static1.millenium.org/articles/9/36/15/39/@/1343439-1310109-2020-03-24-11-15-08-window-64x64-2-64x64-1.png'), ('Poisson-ballon', 'https://static1.millenium.org/articles/9/36/15/39/@/1343442-1310211-sakana-54-i-64x64-2-64x64-1.png'), ('Poisson-clown', 'https://static1.millenium.org/articles/9/36/15/39/@/1343445-1310094-sakana-49-i-64x64-2-64x64-1.png'), ('Poisson-papillon', 'https://static1.millenium.org/articles/9/36/15/39/@/1343448-1310091-sakana-51-i-64x64-2-64x64-1.png'), ('Poisson porc-épic', 'https://static1.millenium.org/articles/9/36/15/39/@/1343451-1310178-sakana-55-i-64x64-2-64x64-1.png'), ('Poisson-ruban', 'https://static1.millenium.org/articles/9/36/15/39/@/1343454-1310112-2020-03-24-11-02-39-window-64x64-2-64x64-1.png'), ('Poisson-scorpion', 'https://static1.millenium.org/articles/9/36/15/39/@/1343457-1310073-sakana-53-i-64x64-2-64x64-1.png'), ('Raie', 'https://static1.millenium.org/articles/9/36/15/39/@/1343460-1310187-sakana-71-i-64x64-2-64x64-1.png'), ('Rémora rayé', 'https://static1.millenium.org/articles/9/36/15/39/@/1343463-1317939-sakana-76-i-64x64-1-64x64-1.png'), ('Requin marteau', 'https://static1.millenium.org/articles/9/36/15/39/@/1343466-1310166-1315818-sakana-73-i-64x64-2-64x64-2-64x64-1.png'), ('Requin scie', 'https://static1.millenium.org/articles/9/36/15/39/@/1343469-1310169-1315800-sakana-72-i-64x64-2-64x64-2-64x64-1.png'), ('Requin baleine', 'https://static1.millenium.org/articles/9/36/15/39/@/1343472-1315488-1315797-sakana-75-i-64x64-2-64x64-2-64x64-1.png'), ('Scarus', 'https://static1.millenium.org/articles/9/36/15/39/@/1343475-1309974-2020-03-24-11-01-40-window-64x64-2-64x64-1.png'), ('Thon', 'https://static1.millenium.org/articles/9/36/15/39/@/1343478-sakana-66-i-64x64-2.png'), ('Vivaneau', 'https://static1.millenium.org/articles/9/36/15/39/@/1343481-1309809-vivaneau-64x64-2-64x64-1.png'), ('Arapaïma', 'https://static1.millenium.org/articles/9/36/15/39/@/1343757-1310157-1315803-sakana-44-i-64x64-2-64x64-2-64x64-1.png'), ('Arowana', 'https://static1.millenium.org/articles/9/36/15/39/@/1343760-1310160-1315809-sakana-41-i-64x64-2-64x64-2-64x64-1.png'), ('Ayu', 'https://static1.millenium.org/articles/9/36/15/39/@/1343763-1310154-sakana-26-i-64x64-2-64x64-1.png'), ('Bar', 'https://static1.millenium.org/articles/9/36/15/39/@/1343766-1309770-bar-64x64-2-64x64-1.png'), ('Bichir', 'https://static1.millenium.org/articles/9/36/15/39/@/1343769-1310124-sakana-45-i-64x64-2-64x64-1.png'), ('Bouvière', 'https://static1.millenium.org/articles/9/36/15/39/@/1343772-1322841-1314843-2020-03-24-11-05-53-window-64x64-1-64x64-1-64x64-1.png'), ('Brochet', 'https://static1.millenium.org/articles/9/36/15/39/@/1343775-1310190-sakana-24-i-64x64-2-64x64-1.png'), ('Carassin', 'https://static1.millenium.org/articles/9/36/15/39/@/1343778-1309773-carassin-64x64-2-64x64-1.png'), ('Chevaine', 'https://static1.millenium.org/articles/9/36/15/39/@/1343781-1309782-chevaine-64x64-2-64x64-1.png'), ('Combattant', 'https://static1.millenium.org/articles/9/36/15/39/@/1343784-1317933-sakana-37-i-64x64-1-64x64-1.png'), ('Crabe chinois', 'https://static1.millenium.org/articles/9/36/15/39/@/1343787-1310193-sakana-33-i-64x64-2-64x64-1.png'), ('Crapet', 'https://static1.millenium.org/articles/9/36/15/39/@/1343790-1309785-crapet-64x64-2-64x64-1.png'), ('Dai yu', 'https://static1.millenium.org/articles/9/36/15/39/@/1343793-1310217-1315779-sakana-30-i-64x64-2-64x64-2-64x64-1.png'), ('Dorade', 'https://static1.millenium.org/articles/9/36/15/39/@/1343796-1310127-1315791-sakana-42-i-64x64-2-64x64-2-64x64-1.png'), ('Eperlan', 'https://static1.millenium.org/articles/9/36/15/39/@/1343799-1310220-sakana-25-i-64x64-2-64x64-1.png'), ('Esturgeon', 'https://static1.millenium.org/articles/9/36/15/39/@/1343802-1312350-esturgeon-64x64-2-64x64-1.png'), (\"Gobie d'eau douce\", 'https://static1.millenium.org/articles/9/36/15/39/@/1343805-sakana-16-i-64x64-2.png'), ('Guppy', 'https://static1.millenium.org/articles/9/36/15/39/@/1343808-1310019-sakana-34-i-64x64-2-64x64-1.png'), (\"Loche d'étang\", 'https://static1.millenium.org/articles/9/36/15/39/@/1343811-sakana-17-i-64x64-1.png'), ('Néon bleu', 'https://static1.millenium.org/articles/9/36/15/39/@/1343814-1309989-sakana-38-i-64x64-3-64x64-1.png'), ('Omble', 'https://static1.millenium.org/articles/9/36/15/39/@/1343817-1309956-2020-03-24-11-09-51-window-64x64-2-64x64-1.png'), ('Perche jaune', 'https://static1.millenium.org/articles/9/36/15/39/@/1343820-1309998-perche-jaune-64x64-2-64x64-1.png'), ('Piranha', 'https://static1.millenium.org/articles/9/36/15/39/@/1343823-1310130-sakana-40-i-64x64-2-64x64-1.png'), ('Poisson arc-en-ciel', 'https://static1.millenium.org/articles/9/36/15/39/@/1343826-1310103-sakana-39-i-64x64-2-64x64-1.png'), ('Poisson docteur', 'https://static1.millenium.org/articles/9/36/15/39/@/1343829-1310052-sakana-35-i-64x64-2-64x64-1.png'), ('Poisson-ange', 'https://static1.millenium.org/articles/9/36/15/39/@/1343832-1310055-sakana-36-i-64x64-2-64x64-1.png'), ('Saumon', 'https://static1.millenium.org/articles/9/36/15/39/@/1343835-1310199-sakana-31-i-64x64-2-64x64-1.png'), ('Saumon masou', 'https://static1.millenium.org/articles/9/36/15/39/@/1343838-1314549-sakana-27-i-1-64x64-2-64x64-1.png'), ('Saumon roi', 'https://static1.millenium.org/articles/9/36/15/39/@/1343841-1310196-sakana-32-i-64x64-2-64x64-1.png'), ('Tilapia', 'https://static1.millenium.org/articles/9/36/15/39/@/1343844-1315503-sakana-23-i-64x64-2-64x64-1.png'), ('Tortue serpentine', 'https://static1.millenium.org/articles/9/36/15/39/@/1343847-1317927-sakana-13-i-64x64-1-64x64-1.png'), ('Tortue trionyx', 'https://static1.millenium.org/articles/9/36/15/39/@/1343850-1310163-155472-sakana-12-i-64x64-1-64x64-2-64x64-1.png'), ('Truite dorée', 'https://static1.millenium.org/articles/9/36/15/39/@/1343853-1315050-doree-64x64-2-64x64-1.png'), ('Vandoise', 'https://static1.millenium.org/articles/9/36/15/39/@/1343856-1309794-vandoise-64x64-2-64x64-1.png'), ('Carpe', 'https://static1.millenium.org/articles/9/36/15/39/@/1343859-1309776-carpe-64x64-2-64x64-1.png'), ('Carpe Koï', 'https://static1.millenium.org/articles/9/36/15/39/@/1343862-1309953-carpe-koi-64x64-2-64x64-1.png'), ('Cyprin doré', 'https://static1.millenium.org/articles/9/36/15/39/@/1343865-1309788-1315833-sakana-8-i-64x64-2-64x64-2-64x64-1.png'), ('Ecrevisse', 'https://static1.millenium.org/articles/9/36/15/39/@/1343868-1309971-155469-sakana-11-i-64x64-1-64x64-2-64x64-1.png'), ('Fondule barré', 'https://static1.millenium.org/articles/9/36/15/39/@/1343871-1309983-155466-sakana-10-i-64x64-1-64x64-3-64x64-1.png'), ('Gar', 'https://static1.millenium.org/articles/9/36/15/39/@/1343874-1310040-gar-64x64-3-64x64-1.png'), ('Grenouille', 'https://static1.millenium.org/articles/9/36/15/39/@/1343877-1310061-sakana-15-i-64x64-2-64x64-1.png'), ('Poisson rouge', 'https://static1.millenium.org/articles/9/36/15/39/@/1343880-1309779-poisson-rouge-64x64-2-64x64-1.png'), ('Ranchu', 'https://static1.millenium.org/articles/9/36/15/39/@/1343883-1315497-155460-sakana-9-i-64x64-1-64x64-2-64x64-1.png'), ('Silure', 'https://static1.millenium.org/articles/9/36/15/39/@/1343886-1310058-155547-sakana-18-i-64x64-1-64x64-2-64x64-1.png'), ('Têtard', 'https://static1.millenium.org/articles/9/36/15/39/@/1343889-sakana-14-i-64x64-1.png'), ('Tête-de-serpent', 'https://static1.millenium.org/articles/9/36/15/39/@/1343892-1310151-sakana-19-i-64x64-2-64x64-1.png'), ('Anchois', 'https://static1.millenium.org/articles/9/36/15/39/@/1343895-1312347-sakana-56-i-64x64-2-64x64-1.png'), ('Bar commun', 'https://static1.millenium.org/articles/9/36/15/39/@/1343898-1309797-bar-commun-64x64-2-64x64-1.png'), ('Calmar', 'https://static1.millenium.org/articles/9/36/15/39/@/1343901-1314567-2020-03-24-11-03-39-window-64x64-1-64x64-1.png'), ('Carangue grosse tête', 'https://static1.millenium.org/articles/9/36/15/39/@/1343904-1319277-sakana-68-i-64x64-1-64x64-1.png'), ('Cardeau', 'https://static1.millenium.org/articles/9/36/15/39/@/1343907-1309800-cardeau-64x64-2-64x64-1.png'), ('Chinchard', 'https://static1.millenium.org/articles/9/36/15/39/@/1343910-1309803-chinchard-64x64-2-64x64-1.png'), ('Clione', 'https://static1.millenium.org/articles/9/36/15/39/@/1343913-1314783-2020-03-24-11-09-23-window-64x64-1-64x64-1.png'), ('Coryphène', 'https://static1.millenium.org/articles/9/36/15/39/@/1343916-1317930-sakana-69-i-64x64-1-64x64-1.png'), ('Coelacanthe', 'https://static1.millenium.org/articles/9/36/15/39/@/1343919-sakana-80-i-64x64-1.png'), ('Gard requin blanc', 'https://static1.millenium.org/articles/9/36/15/39/@/1343922-1310136-1315788-sakana-74-i-64x64-2-64x64-2-64x64-1.png'), ('Hippocampe', 'https://static1.millenium.org/articles/9/36/15/39/@/1343925-1310022-sakana-48-i-64x64-2-64x64-1.png'), ('Limande', 'https://static1.millenium.org/articles/9/36/15/39/@/1343928-1310010-2020-03-24-11-02-20-window-64x64-2-64x64-1.png'), ('Lune de mer', 'https://static1.millenium.org/articles/9/36/15/39/@/1343931-1310139-sakana-70-i-64x64-2-64x64-1.png'), ('Macropinna', 'https://static1.millenium.org/articles/9/36/15/39/@/1343934-sakana-79-i-64x64-1.png'), ('Marlin bleu', 'https://static1.millenium.org/articles/9/36/15/39/@/1343937-1310172-1315806-sakana-67-i-64x64-2-64x64-2-64x64-1.png'), ('Murène', 'https://static1.millenium.org/articles/9/36/15/39/@/1343940-1310184-sakana-64-i-64x64-2-64x64-1.png'), ('Murène ruban bleue', 'https://static1.millenium.org/articles/9/36/15/39/@/1343943-1317942-sakana-65-i-64x64-1-64x64-1.png'), ('Napoléon', 'https://static1.millenium.org/articles/9/36/15/39/@/1343946-1310175-1315812-sakana-52-i-64x64-2-64x64-2-64x64-1.png'), ('Poisson chirurgien', 'https://static1.millenium.org/articles/9/36/15/39/@/1343949-1310064-sakana-50-i-64x64-2-64x64-1.png'), ('Poisson lanterne', 'https://static1.millenium.org/articles/9/36/15/39/@/1343952-1310109-2020-03-24-11-15-08-window-64x64-2-64x64-1.png'), ('Poisson-ballon', 'https://static1.millenium.org/articles/9/36/15/39/@/1343955-1310211-sakana-54-i-64x64-2-64x64-1.png'), ('Poisson-clown', 'https://static1.millenium.org/articles/9/36/15/39/@/1343958-1310094-sakana-49-i-64x64-2-64x64-1.png'), ('Poisson-papillon', 'https://static1.millenium.org/articles/9/36/15/39/@/1343961-1310091-sakana-51-i-64x64-2-64x64-1.png'), ('Poisson porc-épic', 'https://static1.millenium.org/articles/9/36/15/39/@/1343964-1310178-sakana-55-i-64x64-2-64x64-1.png'), ('Poisson-ruban', 'https://static1.millenium.org/articles/9/36/15/39/@/1343967-1310112-2020-03-24-11-02-39-window-64x64-2-64x64-1.png'), ('Poisson-scorpion', 'https://static1.millenium.org/articles/9/36/15/39/@/1343970-1310073-sakana-53-i-64x64-2-64x64-1.png'), ('Raie', 'https://static1.millenium.org/articles/9/36/15/39/@/1343973-1310187-sakana-71-i-64x64-2-64x64-1.png'), ('Rémora rayé', 'https://static1.millenium.org/articles/9/36/15/39/@/1343976-1317939-sakana-76-i-64x64-1-64x64-1.png'), ('Requin marteau', 'https://static1.millenium.org/articles/9/36/15/39/@/1343979-1310166-1315818-sakana-73-i-64x64-2-64x64-2-64x64-1.png'), ('Requin scie', 'https://static1.millenium.org/articles/9/36/15/39/@/1343982-1310169-1315800-sakana-72-i-64x64-2-64x64-2-64x64-1.png'), ('Requin baleine', 'https://static1.millenium.org/articles/9/36/15/39/@/1343985-1315488-1315797-sakana-75-i-64x64-2-64x64-2-64x64-1.png'), ('Scarus', 'https://static1.millenium.org/articles/9/36/15/39/@/1343988-1309974-2020-03-24-11-01-40-window-64x64-2-64x64-1.png'), ('Thon', 'https://static1.millenium.org/articles/9/36/15/39/@/1343991-sakana-66-i-64x64-1.png'), ('Vivaneau', 'https://static1.millenium.org/articles/9/36/15/39/@/1343994-1309809-vivaneau-64x64-2-64x64-1.png')]\n"
     ]
    }
   ],
   "source": [
    "with open(\"assets\\poissons.csv\",\"r\") as f:\n",
    "    poissons = pd.read_csv(f,sep=\";\",encoding=\"utf-8\",header=0)\n",
    "mbre_liste = {\n",
    "    \"Les boss\" : \"img.jpg\",\n",
    "    \"Requin Boobs\": \"shark_boobs.jpg\",\n",
    "    \"Djoko\": \"img.jpg\",\n",
    "    \"Silvec\": \"img.jpg\",\n",
    "    \"Zippo\": \"img.jpg\",\n",
    "    \"Typh\": \"img.jpg\",\n",
    "    \"Ana\": \"img.jpg\",\n",
    "    \"Booléen\": \"img.jpg\",\n",
    "    \"Saké\": \"img.jpg\",\n",
    "    \"Titane\": \"img.jpg\",\n",
    "    \"Noisette Très Chouette\": \"img.jpg\",\n",
    "    \"Ev\": \"img.jpg\",\n",
    "    \"Wouali\": \"img.jpg\",\n",
    "    \"Mowgli\": \"img.jpg\",\n",
    "    \"Benj\": \"img.jpg\",\n",
    "    \"Teecs\": \"img.jpg\",\n",
    "    \"Karnas\": \"img.jpg\",\n",
    "    \"Belek\": \"img.jpg\",\n",
    "    \"Crayon\": \"img.jpg\",\n",
    "    \"Clutch\": \"img.jpg\",\n",
    "    \"Flash\": \"img.jpg\",\n",
    "    \"Fluffy\": \"img.jpg\",\n",
    "    \"Jane\": \"img.jpg\",\n",
    "    \"Marionnette\": \"img.jpg\",\n",
    "    \"Scooby\": \"img.jpg\",\n",
    "    \"Tom\": \"img.jpg\",\n",
    "    \"Ravel\": \"img.jpg\",\n",
    "    \"Fortiche\": \"img.jpg\",  \n",
    "    \"Cornichon\": \"img.jpg\"\n",
    "}\n",
    "\n",
    "\n",
    "\n",
    "pechables = list(mbre_liste.items())\n",
    "print(pechables)\n",
    "liste_tuples = poissons[['nom_poisson', 'link_img']].to_records(index=False).tolist()\n",
    "print(liste_tuples)\n",
    "pechables += liste_tuples\n",
    "\n",
    "print(pechables)"
   ]
  },
  {
   "cell_type": "code",
   "execution_count": 97,
   "metadata": {},
   "outputs": [
    {
     "ename": "ValueError",
     "evalue": "'Vandoise' is not in list",
     "output_type": "error",
     "traceback": [
      "\u001b[1;31m---------------------------------------------------------------------------\u001b[0m",
      "\u001b[1;31mValueError\u001b[0m                                Traceback (most recent call last)",
      "\u001b[1;32mc:\\Users\\cohen\\OneDrive\\Debian_ordi\\bot_discord\\fishingbot\\test.ipynb Cell 18\u001b[0m line \u001b[0;36m1\n\u001b[1;32m----> <a href='vscode-notebook-cell:/c%3A/Users/cohen/OneDrive/Debian_ordi/bot_discord/fishingbot/test.ipynb#X36sZmlsZQ%3D%3D?line=0'>1</a>\u001b[0m pechables\u001b[39m.\u001b[39;49mindex(\u001b[39m\"\u001b[39;49m\u001b[39mVandoise\u001b[39;49m\u001b[39m\"\u001b[39;49m)\n",
      "\u001b[1;31mValueError\u001b[0m: 'Vandoise' is not in list"
     ]
    }
   ],
   "source": [
    "pechables.index(\"Vandoise\")"
   ]
  },
  {
   "cell_type": "code",
   "execution_count": null,
   "metadata": {},
   "outputs": [
    {
     "data": {
      "text/plain": [
       "189"
      ]
     },
     "execution_count": 62,
     "metadata": {},
     "output_type": "execute_result"
    }
   ],
   "source": [
    "len(pechables)"
   ]
  },
  {
   "cell_type": "code",
   "execution_count": null,
   "metadata": {},
   "outputs": [
    {
     "data": {
      "text/plain": [
       "[0,\n",
       " 0,\n",
       " 0,\n",
       " 0,\n",
       " 0,\n",
       " 0,\n",
       " 0,\n",
       " 0,\n",
       " 0,\n",
       " 0,\n",
       " 0,\n",
       " 0,\n",
       " 0,\n",
       " 0,\n",
       " 0,\n",
       " 0,\n",
       " 0,\n",
       " 0,\n",
       " 0,\n",
       " 0,\n",
       " 0,\n",
       " 0,\n",
       " 0,\n",
       " 0,\n",
       " 0,\n",
       " 0,\n",
       " 0,\n",
       " 0,\n",
       " 0,\n",
       " 0,\n",
       " 0,\n",
       " 0,\n",
       " 0,\n",
       " 0,\n",
       " 0,\n",
       " 0,\n",
       " 0,\n",
       " 0,\n",
       " 0,\n",
       " 0,\n",
       " 0,\n",
       " 0,\n",
       " 0,\n",
       " 0,\n",
       " 0,\n",
       " 0,\n",
       " 0,\n",
       " 0,\n",
       " 0,\n",
       " 0,\n",
       " 0,\n",
       " 0,\n",
       " 0,\n",
       " 0,\n",
       " 0,\n",
       " 0,\n",
       " 0,\n",
       " 0,\n",
       " 0,\n",
       " 0,\n",
       " 0,\n",
       " 0,\n",
       " 0,\n",
       " 0,\n",
       " 0,\n",
       " 0,\n",
       " 0,\n",
       " 0,\n",
       " 0,\n",
       " 0,\n",
       " 0,\n",
       " 0,\n",
       " 0,\n",
       " 0,\n",
       " 0,\n",
       " 0,\n",
       " 0,\n",
       " 0,\n",
       " 0,\n",
       " 0,\n",
       " 0,\n",
       " 0,\n",
       " 0,\n",
       " 0,\n",
       " 0,\n",
       " 0,\n",
       " 0,\n",
       " 0,\n",
       " 0,\n",
       " 0,\n",
       " 0,\n",
       " 0,\n",
       " 0,\n",
       " 0,\n",
       " 0,\n",
       " 0,\n",
       " 0,\n",
       " 0,\n",
       " 0,\n",
       " 0,\n",
       " 0,\n",
       " 0,\n",
       " 0,\n",
       " 0,\n",
       " 0,\n",
       " 0,\n",
       " 0,\n",
       " 0,\n",
       " 0,\n",
       " 0,\n",
       " 0,\n",
       " 0,\n",
       " 0,\n",
       " 0,\n",
       " 0,\n",
       " 0,\n",
       " 0,\n",
       " 0,\n",
       " 0,\n",
       " 0,\n",
       " 0,\n",
       " 0,\n",
       " 0,\n",
       " 0,\n",
       " 0,\n",
       " 0,\n",
       " 0,\n",
       " 0,\n",
       " 0,\n",
       " 0,\n",
       " 0,\n",
       " 0,\n",
       " 0,\n",
       " 0,\n",
       " 0,\n",
       " 0,\n",
       " 0,\n",
       " 0,\n",
       " 0,\n",
       " 0,\n",
       " 0,\n",
       " 0,\n",
       " 0,\n",
       " 0,\n",
       " 0,\n",
       " 0,\n",
       " 0,\n",
       " 0,\n",
       " 0,\n",
       " 0,\n",
       " 0,\n",
       " 0,\n",
       " 0,\n",
       " 0,\n",
       " 0,\n",
       " 0,\n",
       " 0,\n",
       " 0,\n",
       " 0,\n",
       " 0,\n",
       " 0,\n",
       " 0,\n",
       " 0,\n",
       " 0,\n",
       " 0,\n",
       " 0,\n",
       " 0,\n",
       " 0,\n",
       " 0,\n",
       " 0,\n",
       " 0,\n",
       " 0,\n",
       " 0,\n",
       " 0,\n",
       " 0,\n",
       " 0,\n",
       " 0,\n",
       " 0,\n",
       " 0,\n",
       " 0,\n",
       " 0,\n",
       " 0,\n",
       " 0,\n",
       " 0,\n",
       " 0,\n",
       " 0,\n",
       " 0,\n",
       " 0,\n",
       " 0]"
      ]
     },
     "execution_count": 80,
     "metadata": {},
     "output_type": "execute_result"
    }
   ],
   "source": [
    "# test de typage \n",
    "\n",
    "df = pd.read_csv(\"assets/bdd.csv\",sep=\";\")\n",
    "eval(df.loc[df[\"ID_Joueur\"]==12,\"inventaire\"][0])"
   ]
  },
  {
   "cell_type": "code",
   "execution_count": null,
   "metadata": {},
   "outputs": [],
   "source": [
    "def get_inventory(ID:int):\n",
    "    assert check_ID(ID), \"Erreur de vérification de l'ID du joueur\"\n",
    "    df = pd.read_csv(CSV_PATH,sep=\";\")\n",
    "    inventory = eval(df.loc[df[\"ID_Joueur\"]==ID,\"inventaire\"][0])\n",
    "    li_peche = [pechables[k] for k in range(TAILLE_PECHABLES) if inventory[k]>0]\n",
    "    msg = f\"Voici l'inventaire de <@{ID}> : \\n\"\n",
    "    for peche in li_peche:\n",
    "        msg += f\"{peche} : {inventory[pechables.index(peche)]}\\n\" \n",
    "    return msg"
   ]
  },
  {
   "cell_type": "code",
   "execution_count": null,
   "metadata": {},
   "outputs": [
    {
     "ename": "NameError",
     "evalue": "name 'TAILLE_PECHABLES' is not defined",
     "output_type": "error",
     "traceback": [
      "\u001b[1;31m---------------------------------------------------------------------------\u001b[0m",
      "\u001b[1;31mNameError\u001b[0m                                 Traceback (most recent call last)",
      "\u001b[1;32mc:\\Users\\cohen\\OneDrive\\Debian_ordi\\bot_discord\\fishingbot\\test.ipynb Cell 22\u001b[0m line \u001b[0;36m1\n\u001b[1;32m----> <a href='vscode-notebook-cell:/c%3A/Users/cohen/OneDrive/Debian_ordi/bot_discord/fishingbot/test.ipynb#X41sZmlsZQ%3D%3D?line=0'>1</a>\u001b[0m get_inventory(\u001b[39m12\u001b[39;49m)\n",
      "\u001b[1;32mc:\\Users\\cohen\\OneDrive\\Debian_ordi\\bot_discord\\fishingbot\\test.ipynb Cell 22\u001b[0m line \u001b[0;36m5\n\u001b[0;32m      <a href='vscode-notebook-cell:/c%3A/Users/cohen/OneDrive/Debian_ordi/bot_discord/fishingbot/test.ipynb#X41sZmlsZQ%3D%3D?line=2'>3</a>\u001b[0m df \u001b[39m=\u001b[39m pd\u001b[39m.\u001b[39mread_csv(CSV_PATH,sep\u001b[39m=\u001b[39m\u001b[39m\"\u001b[39m\u001b[39m;\u001b[39m\u001b[39m\"\u001b[39m)\n\u001b[0;32m      <a href='vscode-notebook-cell:/c%3A/Users/cohen/OneDrive/Debian_ordi/bot_discord/fishingbot/test.ipynb#X41sZmlsZQ%3D%3D?line=3'>4</a>\u001b[0m inventory \u001b[39m=\u001b[39m \u001b[39meval\u001b[39m(df\u001b[39m.\u001b[39mloc[df[\u001b[39m\"\u001b[39m\u001b[39mID_Joueur\u001b[39m\u001b[39m\"\u001b[39m]\u001b[39m==\u001b[39mID,\u001b[39m\"\u001b[39m\u001b[39minventaire\u001b[39m\u001b[39m\"\u001b[39m][\u001b[39m0\u001b[39m])\n\u001b[1;32m----> <a href='vscode-notebook-cell:/c%3A/Users/cohen/OneDrive/Debian_ordi/bot_discord/fishingbot/test.ipynb#X41sZmlsZQ%3D%3D?line=4'>5</a>\u001b[0m li_peche \u001b[39m=\u001b[39m [pechables[k] \u001b[39mfor\u001b[39;00m k \u001b[39min\u001b[39;00m \u001b[39mrange\u001b[39m(TAILLE_PECHABLES) \u001b[39mif\u001b[39;00m inventory[k]\u001b[39m>\u001b[39m\u001b[39m0\u001b[39m]\n\u001b[0;32m      <a href='vscode-notebook-cell:/c%3A/Users/cohen/OneDrive/Debian_ordi/bot_discord/fishingbot/test.ipynb#X41sZmlsZQ%3D%3D?line=5'>6</a>\u001b[0m msg \u001b[39m=\u001b[39m \u001b[39mf\u001b[39m\u001b[39m\"\u001b[39m\u001b[39mVoici l\u001b[39m\u001b[39m'\u001b[39m\u001b[39minventaire de <@\u001b[39m\u001b[39m{\u001b[39;00mID\u001b[39m}\u001b[39;00m\u001b[39m> : \u001b[39m\u001b[39m\\n\u001b[39;00m\u001b[39m\"\u001b[39m\n\u001b[0;32m      <a href='vscode-notebook-cell:/c%3A/Users/cohen/OneDrive/Debian_ordi/bot_discord/fishingbot/test.ipynb#X41sZmlsZQ%3D%3D?line=6'>7</a>\u001b[0m \u001b[39mfor\u001b[39;00m peche \u001b[39min\u001b[39;00m li_peche:\n",
      "\u001b[1;31mNameError\u001b[0m: name 'TAILLE_PECHABLES' is not defined"
     ]
    }
   ],
   "source": [
    "get_inventory(12)"
   ]
  },
  {
   "cell_type": "code",
   "execution_count": null,
   "metadata": {},
   "outputs": [],
   "source": [
    "def get_score(ID:int):\n",
    "    assert check_ID(ID), \"Erreur de vérification de l'ID du joueur\"\n",
    "    df = pd.read_csv(CSV_PATH,sep=\";\")\n",
    "    score = df.loc[df[\"ID_Joueur\"]==ID,\"Score\"].values[0]\n",
    "    return score"
   ]
  },
  {
   "cell_type": "code",
   "execution_count": null,
   "metadata": {},
   "outputs": [
    {
     "data": {
      "text/plain": [
       "80"
      ]
     },
     "execution_count": 91,
     "metadata": {},
     "output_type": "execute_result"
    }
   ],
   "source": [
    "get_score(12)"
   ]
  }
 ],
 "metadata": {
  "kernelspec": {
   "display_name": "Python 3",
   "language": "python",
   "name": "python3"
  },
  "language_info": {
   "codemirror_mode": {
    "name": "ipython",
    "version": 3
   },
   "file_extension": ".py",
   "mimetype": "text/x-python",
   "name": "python",
   "nbconvert_exporter": "python",
   "pygments_lexer": "ipython3",
   "version": "3.11.6"
  }
 },
 "nbformat": 4,
 "nbformat_minor": 2
}
